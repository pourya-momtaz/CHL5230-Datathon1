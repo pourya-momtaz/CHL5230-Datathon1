{
 "cells": [
  {
   "cell_type": "code",
   "execution_count": 1,
   "metadata": {},
   "outputs": [
    {
     "name": "stdout",
     "output_type": "stream",
     "text": [
      "khar\n"
     ]
    }
   ],
   "source": [
    "from google.colab import files\n",
    "import pandas as pd\n",
    "import io\n",
    "\n",
    "name = \"\"\n",
    "uploaded = files.upload()\n",
    "df = pd.read_csv(io.BytesIO(uploaded[f'{name}.csv']))\n",
    "df.head()"
   ]
  }
 ],
 "metadata": {
  "kernelspec": {
   "display_name": "base",
   "language": "python",
   "name": "python3"
  },
  "language_info": {
   "codemirror_mode": {
    "name": "ipython",
    "version": 3
   },
   "file_extension": ".py",
   "mimetype": "text/x-python",
   "name": "python",
   "nbconvert_exporter": "python",
   "pygments_lexer": "ipython3",
   "version": "3.9.7"
  },
  "orig_nbformat": 4
 },
 "nbformat": 4,
 "nbformat_minor": 2
}
